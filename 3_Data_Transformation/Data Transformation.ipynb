{
 "cells": [
  {
   "cell_type": "code",
   "execution_count": null,
   "id": "marked-tissue",
   "metadata": {},
   "outputs": [],
   "source": [
    "# Load Augmentation Data loader\n",
    "#torch.load('Vision Project/2_Data_Augmentation/Data_Augmentation_Files/data_loader_Augmented_V1.pt')"
   ]
  },
  {
   "cell_type": "code",
   "execution_count": null,
   "id": "accredited-technician",
   "metadata": {},
   "outputs": [],
   "source": [
    "# Save training and test datasets"
   ]
  },
  {
   "cell_type": "code",
   "execution_count": null,
   "id": "micro-domestic",
   "metadata": {},
   "outputs": [],
   "source": [
    "##################################\n",
    "#dataset = MyDataset(..., transform=transform) do your transformations\n",
    "\n",
    "#for idx, data, target in enumerate(dataset):\n",
    " #   torch.save(data, 'Vision Project/3_Data_Transformation/Data Transformation Files'.format(idx))\n",
    " #   torch.save(target,'data_drive_path{}'.format(idx))\n"
   ]
  }
 ],
 "metadata": {
  "environment": {
   "name": "pytorch-gpu.1-7.m65",
   "type": "gcloud",
   "uri": "gcr.io/deeplearning-platform-release/pytorch-gpu.1-7:m65"
  },
  "kernelspec": {
   "display_name": "Python 3",
   "language": "python",
   "name": "python3"
  },
  "language_info": {
   "codemirror_mode": {
    "name": "ipython",
    "version": 3
   },
   "file_extension": ".py",
   "mimetype": "text/x-python",
   "name": "python",
   "nbconvert_exporter": "python",
   "pygments_lexer": "ipython3",
   "version": "3.7.10"
  }
 },
 "nbformat": 4,
 "nbformat_minor": 5
}
