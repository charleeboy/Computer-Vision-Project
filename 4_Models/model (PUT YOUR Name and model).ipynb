{
 "cells": [
  {
   "cell_type": "code",
   "execution_count": null,
   "id": "deluxe-bedroom",
   "metadata": {},
   "outputs": [],
   "source": [
    "# load datasets from files\n",
    "\n",
    "\n",
    " #   torch.load('Vision Project/3_Data_Transformation/Data Transformation Files/data'.format(idx))\n",
    " #   torch.load('Vision Project/3_Data_Transformation/Data Transformation Files/target'.format(idx))"
   ]
  },
  {
   "cell_type": "code",
   "execution_count": null,
   "id": "recorded-little",
   "metadata": {},
   "outputs": [],
   "source": [
    "# save the model to models folder\n",
    "torch.save(the_model.state_dict(), \"Vision Project/4_Models/Model_files\")\n"
   ]
  }
 ],
 "metadata": {
  "environment": {
   "name": "pytorch-gpu.1-7.m65",
   "type": "gcloud",
   "uri": "gcr.io/deeplearning-platform-release/pytorch-gpu.1-7:m65"
  },
  "kernelspec": {
   "display_name": "Python 3",
   "language": "python",
   "name": "python3"
  },
  "language_info": {
   "codemirror_mode": {
    "name": "ipython",
    "version": 3
   },
   "file_extension": ".py",
   "mimetype": "text/x-python",
   "name": "python",
   "nbconvert_exporter": "python",
   "pygments_lexer": "ipython3",
   "version": "3.7.10"
  }
 },
 "nbformat": 4,
 "nbformat_minor": 5
}
