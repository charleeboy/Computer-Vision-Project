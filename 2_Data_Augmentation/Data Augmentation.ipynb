{
 "cells": [
  {
   "cell_type": "code",
   "execution_count": null,
   "id": "global-kingdom",
   "metadata": {},
   "outputs": [],
   "source": [
    "#Load dataloader\n",
    "   =torch.load(\"Vision_Project/1_Data_Loader/Data_Loader_files/data_loader_V1.pt\")"
   ]
  },
  {
   "cell_type": "code",
   "execution_count": null,
   "id": "documented-logic",
   "metadata": {},
   "outputs": [],
   "source": [
    "# After doing augmenation add files to data loader and save\n",
    "torch.save(data_loader, 'Vision Project/2_Data_Augmentation/Data_Augmentation_Files/data_loader_Augmented_V1.pt')"
   ]
  }
 ],
 "metadata": {
  "environment": {
   "name": "pytorch-gpu.1-7.m65",
   "type": "gcloud",
   "uri": "gcr.io/deeplearning-platform-release/pytorch-gpu.1-7:m65"
  },
  "kernelspec": {
   "display_name": "Python 3",
   "language": "python",
   "name": "python3"
  },
  "language_info": {
   "codemirror_mode": {
    "name": "ipython",
    "version": 3
   },
   "file_extension": ".py",
   "mimetype": "text/x-python",
   "name": "python",
   "nbconvert_exporter": "python",
   "pygments_lexer": "ipython3",
   "version": "3.7.10"
  }
 },
 "nbformat": 4,
 "nbformat_minor": 5
}
